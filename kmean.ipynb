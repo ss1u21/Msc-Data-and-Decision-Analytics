{
  "nbformat": 4,
  "nbformat_minor": 0,
  "metadata": {
    "colab": {
      "provenance": [],
      "collapsed_sections": [],
      "authorship_tag": "ABX9TyN2+NPaJ11/44vMP7hbt0f3"
    },
    "kernelspec": {
      "name": "python3",
      "display_name": "Python 3"
    },
    "language_info": {
      "name": "python"
    },
    "accelerator": "GPU",
    "gpuClass": "standard"
  },
  "cells": [
    {
      "cell_type": "markdown",
      "source": [
        "This is google colab file please upload run each cell of the notebook to run it efficently \n",
        "NOTE:Time complexity of the problem is 20 minutes for whole run "
      ],
      "metadata": {
        "id": "nTSsm-8bxOVI"
      }
    },
    {
      "cell_type": "code",
      "execution_count": 5,
      "metadata": {
        "id": "JcrQJIB6wy2F"
      },
      "outputs": [],
      "source": [
        "import pandas as pd\n",
        "import numpy as np\n",
        "import matplotlib.pyplot as plt\n",
        "import  math\n"
      ]
    },
    {
      "cell_type": "code",
      "source": [
        "from google.colab import files\n",
        "uploaded = files.upload()"
      ],
      "metadata": {
        "colab": {
          "base_uri": "https://localhost:8080/",
          "height": 109
        },
        "id": "xyx51T6ww-eu",
        "outputId": "568c3a0c-13f0-4ce4-f2c8-feb70fdbe9d1"
      },
      "execution_count": 2,
      "outputs": [
        {
          "output_type": "display_data",
          "data": {
            "text/plain": [
              "<IPython.core.display.HTML object>"
            ],
            "text/html": [
              "\n",
              "     <input type=\"file\" id=\"files-67387953-8620-4b8e-a1f7-1271a76db8d6\" name=\"files[]\" multiple disabled\n",
              "        style=\"border:none\" />\n",
              "     <output id=\"result-67387953-8620-4b8e-a1f7-1271a76db8d6\">\n",
              "      Upload widget is only available when the cell has been executed in the\n",
              "      current browser session. Please rerun this cell to enable.\n",
              "      </output>\n",
              "      <script>// Copyright 2017 Google LLC\n",
              "//\n",
              "// Licensed under the Apache License, Version 2.0 (the \"License\");\n",
              "// you may not use this file except in compliance with the License.\n",
              "// You may obtain a copy of the License at\n",
              "//\n",
              "//      http://www.apache.org/licenses/LICENSE-2.0\n",
              "//\n",
              "// Unless required by applicable law or agreed to in writing, software\n",
              "// distributed under the License is distributed on an \"AS IS\" BASIS,\n",
              "// WITHOUT WARRANTIES OR CONDITIONS OF ANY KIND, either express or implied.\n",
              "// See the License for the specific language governing permissions and\n",
              "// limitations under the License.\n",
              "\n",
              "/**\n",
              " * @fileoverview Helpers for google.colab Python module.\n",
              " */\n",
              "(function(scope) {\n",
              "function span(text, styleAttributes = {}) {\n",
              "  const element = document.createElement('span');\n",
              "  element.textContent = text;\n",
              "  for (const key of Object.keys(styleAttributes)) {\n",
              "    element.style[key] = styleAttributes[key];\n",
              "  }\n",
              "  return element;\n",
              "}\n",
              "\n",
              "// Max number of bytes which will be uploaded at a time.\n",
              "const MAX_PAYLOAD_SIZE = 100 * 1024;\n",
              "\n",
              "function _uploadFiles(inputId, outputId) {\n",
              "  const steps = uploadFilesStep(inputId, outputId);\n",
              "  const outputElement = document.getElementById(outputId);\n",
              "  // Cache steps on the outputElement to make it available for the next call\n",
              "  // to uploadFilesContinue from Python.\n",
              "  outputElement.steps = steps;\n",
              "\n",
              "  return _uploadFilesContinue(outputId);\n",
              "}\n",
              "\n",
              "// This is roughly an async generator (not supported in the browser yet),\n",
              "// where there are multiple asynchronous steps and the Python side is going\n",
              "// to poll for completion of each step.\n",
              "// This uses a Promise to block the python side on completion of each step,\n",
              "// then passes the result of the previous step as the input to the next step.\n",
              "function _uploadFilesContinue(outputId) {\n",
              "  const outputElement = document.getElementById(outputId);\n",
              "  const steps = outputElement.steps;\n",
              "\n",
              "  const next = steps.next(outputElement.lastPromiseValue);\n",
              "  return Promise.resolve(next.value.promise).then((value) => {\n",
              "    // Cache the last promise value to make it available to the next\n",
              "    // step of the generator.\n",
              "    outputElement.lastPromiseValue = value;\n",
              "    return next.value.response;\n",
              "  });\n",
              "}\n",
              "\n",
              "/**\n",
              " * Generator function which is called between each async step of the upload\n",
              " * process.\n",
              " * @param {string} inputId Element ID of the input file picker element.\n",
              " * @param {string} outputId Element ID of the output display.\n",
              " * @return {!Iterable<!Object>} Iterable of next steps.\n",
              " */\n",
              "function* uploadFilesStep(inputId, outputId) {\n",
              "  const inputElement = document.getElementById(inputId);\n",
              "  inputElement.disabled = false;\n",
              "\n",
              "  const outputElement = document.getElementById(outputId);\n",
              "  outputElement.innerHTML = '';\n",
              "\n",
              "  const pickedPromise = new Promise((resolve) => {\n",
              "    inputElement.addEventListener('change', (e) => {\n",
              "      resolve(e.target.files);\n",
              "    });\n",
              "  });\n",
              "\n",
              "  const cancel = document.createElement('button');\n",
              "  inputElement.parentElement.appendChild(cancel);\n",
              "  cancel.textContent = 'Cancel upload';\n",
              "  const cancelPromise = new Promise((resolve) => {\n",
              "    cancel.onclick = () => {\n",
              "      resolve(null);\n",
              "    };\n",
              "  });\n",
              "\n",
              "  // Wait for the user to pick the files.\n",
              "  const files = yield {\n",
              "    promise: Promise.race([pickedPromise, cancelPromise]),\n",
              "    response: {\n",
              "      action: 'starting',\n",
              "    }\n",
              "  };\n",
              "\n",
              "  cancel.remove();\n",
              "\n",
              "  // Disable the input element since further picks are not allowed.\n",
              "  inputElement.disabled = true;\n",
              "\n",
              "  if (!files) {\n",
              "    return {\n",
              "      response: {\n",
              "        action: 'complete',\n",
              "      }\n",
              "    };\n",
              "  }\n",
              "\n",
              "  for (const file of files) {\n",
              "    const li = document.createElement('li');\n",
              "    li.append(span(file.name, {fontWeight: 'bold'}));\n",
              "    li.append(span(\n",
              "        `(${file.type || 'n/a'}) - ${file.size} bytes, ` +\n",
              "        `last modified: ${\n",
              "            file.lastModifiedDate ? file.lastModifiedDate.toLocaleDateString() :\n",
              "                                    'n/a'} - `));\n",
              "    const percent = span('0% done');\n",
              "    li.appendChild(percent);\n",
              "\n",
              "    outputElement.appendChild(li);\n",
              "\n",
              "    const fileDataPromise = new Promise((resolve) => {\n",
              "      const reader = new FileReader();\n",
              "      reader.onload = (e) => {\n",
              "        resolve(e.target.result);\n",
              "      };\n",
              "      reader.readAsArrayBuffer(file);\n",
              "    });\n",
              "    // Wait for the data to be ready.\n",
              "    let fileData = yield {\n",
              "      promise: fileDataPromise,\n",
              "      response: {\n",
              "        action: 'continue',\n",
              "      }\n",
              "    };\n",
              "\n",
              "    // Use a chunked sending to avoid message size limits. See b/62115660.\n",
              "    let position = 0;\n",
              "    do {\n",
              "      const length = Math.min(fileData.byteLength - position, MAX_PAYLOAD_SIZE);\n",
              "      const chunk = new Uint8Array(fileData, position, length);\n",
              "      position += length;\n",
              "\n",
              "      const base64 = btoa(String.fromCharCode.apply(null, chunk));\n",
              "      yield {\n",
              "        response: {\n",
              "          action: 'append',\n",
              "          file: file.name,\n",
              "          data: base64,\n",
              "        },\n",
              "      };\n",
              "\n",
              "      let percentDone = fileData.byteLength === 0 ?\n",
              "          100 :\n",
              "          Math.round((position / fileData.byteLength) * 100);\n",
              "      percent.textContent = `${percentDone}% done`;\n",
              "\n",
              "    } while (position < fileData.byteLength);\n",
              "  }\n",
              "\n",
              "  // All done.\n",
              "  yield {\n",
              "    response: {\n",
              "      action: 'complete',\n",
              "    }\n",
              "  };\n",
              "}\n",
              "\n",
              "scope.google = scope.google || {};\n",
              "scope.google.colab = scope.google.colab || {};\n",
              "scope.google.colab._files = {\n",
              "  _uploadFiles,\n",
              "  _uploadFilesContinue,\n",
              "};\n",
              "})(self);\n",
              "</script> "
            ]
          },
          "metadata": {}
        },
        {
          "output_type": "stream",
          "name": "stdout",
          "text": [
            "Saving parcels.csv to parcels.csv\n",
            "Saving Portsmouth_6MC.csv to Portsmouth_6MC.csv\n"
          ]
        }
      ]
    },
    {
      "cell_type": "code",
      "source": [
        "df = pd.read_csv(\"parcels.csv\", sep=',')\n",
        "df=df[['Latitude','Longitude','sub-depot']]\n",
        "df = df.set_index('sub-depot', drop=True)\n",
        "df=df.groupby(['Latitude','Longitude']).size().reset_index(name='demand') \n",
        "print(df)\n",
        "grid = df[['Latitude','Longitude']].to_numpy()"
      ],
      "metadata": {
        "id": "GBc_e-7Aw62R"
      },
      "execution_count": null,
      "outputs": []
    },
    {
      "cell_type": "code",
      "source": [
        "class kMeans_from_scratch:\n",
        "    def __init__(self, coordinates, tolerance, iter, number_of_facility):\n",
        "        self.grid = coordinates\n",
        "        self.N = coordinates.shape[0]\n",
        "        self.t = tolerance\n",
        "        self.number_of_facility = number_of_facility\n",
        "        self.f = None\n",
        "        self.fac = None\n",
        "        self.assigned_nodes = []\n",
        "    \n",
        "    def distance(self,x,y):\n",
        "    #print(x)\n",
        "    #print(y)\n",
        "        coords_1 = x\n",
        "        coords_2 = y\n",
        "        return math.sqrt(((coords_1[0]-coords_2[0])**2)+(coords_1[0]-coords_2[0])**2)\n",
        "\n",
        "    def initial_facility(self):  # randomly create facility locations inside the grid\n",
        "        self.fac = np.empty([self.number_of_facility, 2])\n",
        "        for i in range(self.number_of_facility):\n",
        "            self.fac[i, 0] = np.random.uniform(\n",
        "                np.min(self.grid[:, 0]), np.max(self.grid[:, 0]))\n",
        "            self.fac[i, 1] = np.random.uniform(\n",
        "                np.min(self.grid[:, 1]), np.max(self.grid[:, 1]))\n",
        "        return self.fac\n",
        "\n",
        "    def fac_assignment(self, fac):  # Based on shortest distance facility will be assigned\n",
        "        assign = [0] * self.N\n",
        "        for n in range(self.N):\n",
        "            distance = [0] * self.number_of_facility\n",
        "            #print(distance)\n",
        "            for f in range(self.number_of_facility):\n",
        "                #print(f)\n",
        "                '''\n",
        "                distance[f] = math.sqrt(\n",
        "                    (self.grid[n, 0] - fac[f, 0])**2 + (self.grid[n, 1] - fac[f, 1])**2)\n",
        "                '''\n",
        "                #print(self.distance((50.842281,-1.059396),(50.83501046289963,-1.0357983470314722)))\n",
        "                distance[f]=self.distance((self.grid[n, 0],self.grid[n, 1]),(self.fac[f, 0],self.fac[f, 1]))\n",
        "                \n",
        "            assign[n] = np.argmin(distance)\n",
        "        #print(assign)\n",
        "        return assign\n",
        "\n",
        "    def nodes_assignment(self, N, facility, assigned):  # all the assigned nodes to the facility\n",
        "        n_assign = []\n",
        "        for asg in range(N):\n",
        "            if facility == assigned[asg]:\n",
        "                n_assign.append(asg)\n",
        "        return n_assign\n",
        "\n",
        "    def kMeans(self, number_of_facility):\n",
        "        self.initial_facility()\n",
        "        for itr in range(iter):\n",
        "            assign = self.fac_assignment(self.fac)\n",
        "            for facility in range(number_of_facility):\n",
        "                x, y = 0, 0\n",
        "                n_assign = self.nodes_assignment(self.N, facility, assign)\n",
        "                x, y = np.mean(self.grid[n_assign, 0]), np.mean(\n",
        "                    self.grid[n_assign, 1])\n",
        "                self.assigned_nodes.append(self.grid[n_assign].tolist())\n",
        "                if abs(x - self.fac[facility, 0]) >= self.t:\n",
        "                    self.fac[facility, 0] = x\n",
        "                if abs(y - self.fac[facility, 1]) >= self.t:\n",
        "                    self.fac[facility, 1] = y\n",
        "        print('100')\n",
        "        self.f = self.fac\n",
        "        return self.fac\n",
        "\n",
        "\n"
      ],
      "metadata": {
        "id": "7mU8DZTsxKkz"
      },
      "execution_count": 42,
      "outputs": []
    },
    {
      "cell_type": "code",
      "source": [
        "tol, iter, f = 0.01, 200, 6\n",
        "kM = kMeans_from_scratch(grid, tol, iter, f)\n",
        "kM.kMeans(6)\n",
        "#kM.plot()\n",
        "print('final facilities:\\n', kM.fac)\n",
        "finaloutput=pd.DataFrame()\n",
        "for i in range(len(list(kM.assigned_nodes[-kM.number_of_facility:]))):\n",
        "    pdf = pd.DataFrame(list(kM.assigned_nodes[-kM.number_of_facility:][i]))\n",
        "    #pdf = pdf.transpose()\n",
        "    pdf['Facility']=[i+1]*len(list(kM.assigned_nodes[-kM.number_of_facility:][i]))\n",
        "    finaloutput=pd.concat([finaloutput,pdf], axis=0)\n",
        "    #print(finaloutput)"
      ],
      "metadata": {
        "colab": {
          "base_uri": "https://localhost:8080/"
        },
        "id": "2cPsqgVUxPcq",
        "outputId": "9ac9c908-d0f8-4fda-816e-b6d4ffc81295"
      },
      "execution_count": 45,
      "outputs": [
        {
          "output_type": "stream",
          "name": "stdout",
          "text": [
            "100\n",
            "final facilities:\n",
            " [[50.8228415  -1.08017025]\n",
            " [50.8477278  -1.04536153]\n",
            " [50.80554787 -1.08072857]\n",
            " [50.7864063  -1.06170972]\n",
            " [50.84204684 -1.043842  ]\n",
            " [50.78656507 -1.07646678]]\n"
          ]
        }
      ]
    },
    {
      "cell_type": "code",
      "source": [
        "finaloutput=pd.DataFrame()\n",
        "for i in range(len(list(kM.assigned_nodes[-kM.number_of_facility:]))):\n",
        "    pdf = pd.DataFrame(list(kM.assigned_nodes[-kM.number_of_facility:][i]))\n",
        "    #pdf = pdf.transpose()\n",
        "    pdf['Facility']=[i+1]*len(list(kM.assigned_nodes[-kM.number_of_facility:][i]))\n",
        "    finaloutput=pd.concat([finaloutput,pdf], axis=0)\n",
        "    #print(finaloutput)"
      ],
      "metadata": {
        "id": "qUzl7e-HxTNR"
      },
      "execution_count": 47,
      "outputs": []
    },
    {
      "cell_type": "code",
      "source": [
        "print('final facilities:\\n', kM.fac)\n"
      ],
      "metadata": {
        "colab": {
          "base_uri": "https://localhost:8080/"
        },
        "id": "qvW15xWrUX_J",
        "outputId": "92dbf0ee-ebbd-4b40-a184-4d8db87837bd"
      },
      "execution_count": 50,
      "outputs": [
        {
          "output_type": "stream",
          "name": "stdout",
          "text": [
            "final facilities:\n",
            " [[50.8228415  -1.08017025]\n",
            " [50.8477278  -1.04536153]\n",
            " [50.80554787 -1.08072857]\n",
            " [50.7864063  -1.06170972]\n",
            " [50.84204684 -1.043842  ]\n",
            " [50.78656507 -1.07646678]]\n"
          ]
        }
      ]
    },
    {
      "cell_type": "code",
      "source": [
        "finaloutput.columns=['Latitude','Longitude','Facility']"
      ],
      "metadata": {
        "id": "ZtQAuFAmUTyE"
      },
      "execution_count": 51,
      "outputs": []
    },
    {
      "cell_type": "code",
      "source": [
        "finaloutput['Facility']=finaloutput['Facility']-1"
      ],
      "metadata": {
        "id": "hZbgTLEqWGNn"
      },
      "execution_count": 52,
      "outputs": []
    },
    {
      "cell_type": "code",
      "source": [
        "finaloutput"
      ],
      "metadata": {
        "id": "kQ8GMvuTqVdt"
      },
      "execution_count": null,
      "outputs": []
    },
    {
      "cell_type": "code",
      "source": [
        "Facilities=[]\n",
        "for i in kM.fac:\n",
        "  Facilities.append(i)"
      ],
      "metadata": {
        "id": "TCLGa5FvVNS6"
      },
      "execution_count": 54,
      "outputs": []
    },
    {
      "cell_type": "code",
      "source": [
        "from geopy.geocoders import Nominatim\n",
        "location_name=[]\n",
        "for i in Facilities:\n",
        "    geolocator = Nominatim(user_agent=\"geoapiExercises\")\n",
        "    Latitude = str(i[0])\n",
        "    Longitude = str(i[1])\n",
        "    location = geolocator.reverse(Latitude+\",\"+Longitude)\n",
        "    location_name.append(str(location).split(\"(\")[0])\n",
        " \n",
        "# Display\n",
        "#print(location_name)\n",
        "facility_dataframe=pd.DataFrame(Facilities,columns=['Facility_Latitude','Facility_Longitude'])\n",
        "facility_dataframe['Address']=location_name\n"
      ],
      "metadata": {
        "id": "giKcr-hrt0Zt"
      },
      "execution_count": 55,
      "outputs": []
    },
    {
      "cell_type": "code",
      "source": [
        "facility_dataframe"
      ],
      "metadata": {
        "id": "XGhPpIlYuSeN"
      },
      "execution_count": null,
      "outputs": []
    },
    {
      "cell_type": "code",
      "source": [
        "pd.set_option('display.max_colwidth', None)\n",
        "facility_dataframe['Facility_Representation']=facility_dataframe.index\n",
        "facility_dataframe"
      ],
      "metadata": {
        "id": "uWsZ3uvPuWTC"
      },
      "execution_count": null,
      "outputs": []
    },
    {
      "cell_type": "code",
      "source": [
        "#here we are considering geodesic distance because while comparing all the models we should have same type of objective vale\n",
        "#NOTE: this is not related to k mean\n",
        "def distance(x,y):\n",
        "    #print(x)\n",
        "    #print(y)\n",
        "    coords_1 = x\n",
        "    coords_2 = y\n",
        "    return geopy.distance.geodesic(coords_1, coords_2).km"
      ],
      "metadata": {
        "id": "1NMII7Pfua_C"
      },
      "execution_count": 58,
      "outputs": []
    },
    {
      "cell_type": "code",
      "source": [
        "dffinal=pd.merge(finaloutput, facility_dataframe, left_on='Facility', right_on='Facility_Representation')\n",
        "dffinal['distance']=dffinal.apply(lambda row: distance((row['Latitude'],row['Longitude']),(row['Facility_Latitude'],row['Facility_Longitude'])),axis=1)"
      ],
      "metadata": {
        "id": "agazdjUDux7i"
      },
      "execution_count": 59,
      "outputs": []
    },
    {
      "cell_type": "code",
      "source": [
        "dffinal"
      ],
      "metadata": {
        "id": "GwX9UG7au8If"
      },
      "execution_count": null,
      "outputs": []
    },
    {
      "cell_type": "code",
      "source": [
        "objective_value=dffinal['distance'].sum()\n",
        "objective_value"
      ],
      "metadata": {
        "id": "iedoKU6GvW32"
      },
      "execution_count": null,
      "outputs": []
    },
    {
      "cell_type": "code",
      "source": [
        "import seaborn as sns\n",
        "x=finaloutput['Facility'].unique()\n",
        "colour=['burlywood','lime','orange','mediumslateblue','lightcoral','gray']\n",
        "dictcolour={}\n",
        "for col in range(0,len(x)):\n",
        "    dictcolour[col]=colour[col]\n",
        "fig, ax = plt.subplots()\n",
        "c=sns.color_palette(colour, n_colors=len(x))\n",
        "sns.scatterplot(finaloutput['Latitude'], finaloutput['Longitude'], c=finaloutput['Facility'],hue=finaloutput['Facility'],marker=\"+\",palette=c)\n",
        "plt.title(label=\"PLot for k mean clustering facility\")\n",
        "for col in range(0,len(x)):\n",
        "    plt.scatter(Facilities[col][0], Facilities[col][1], marker='*', s=600, c=colour[col])\n",
        "\n",
        "plt.show()"
      ],
      "metadata": {
        "id": "PHohBdkLvlqS"
      },
      "execution_count": null,
      "outputs": []
    }
  ]
}